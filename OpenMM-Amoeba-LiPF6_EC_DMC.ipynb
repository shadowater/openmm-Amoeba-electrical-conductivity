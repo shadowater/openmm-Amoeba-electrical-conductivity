{
 "cells": [
  {
   "cell_type": "code",
   "execution_count": null,
   "id": "2c158f32",
   "metadata": {},
   "outputs": [],
   "source": [
    "from openmm.app import *\n",
    "from openmm import *\n",
    "from openmm.unit import *\n",
    "from sys import stdout\n",
    "import re"
   ]
  },
  {
   "cell_type": "markdown",
   "id": "468eefc6",
   "metadata": {
    "heading_collapsed": true
   },
   "source": [
    "# 测试每个分子pdb文件是否能被正确识别"
   ]
  },
  {
   "cell_type": "code",
   "execution_count": null,
   "id": "9ad1b5bb",
   "metadata": {
    "hidden": true
   },
   "outputs": [],
   "source": [
    "pdb = PDBFile('EC.pdb')\n",
    "forcefield = ForceField('EC_Amoeba.xml')\n",
    "system = forcefield.createSystem(pdb.topology, nonbondedMethod=PME,\n",
    "        nonbondedCutoff=1*nanometer, constraints=HBonds)"
   ]
  },
  {
   "cell_type": "code",
   "execution_count": null,
   "id": "b00dfae0",
   "metadata": {
    "hidden": true
   },
   "outputs": [],
   "source": [
    "pdb = PDBFile('DMC.pdb')\n",
    "forcefield = ForceField('DMC_Amoeba.xml')\n",
    "system = forcefield.createSystem(pdb.topology, nonbondedMethod=PME,\n",
    "        nonbondedCutoff=1*nanometer, constraints=HBonds)"
   ]
  },
  {
   "cell_type": "code",
   "execution_count": null,
   "id": "43ef2b70",
   "metadata": {
    "hidden": true
   },
   "outputs": [],
   "source": [
    "pdb = PDBFile('PF6n1.pdb')\n",
    "forcefield = ForceField('PF6n1_Amoeba.xml')\n",
    "system = forcefield.createSystem(pdb.topology, nonbondedMethod=PME,\n",
    "        nonbondedCutoff=1*nanometer, constraints=HBonds)"
   ]
  },
  {
   "cell_type": "code",
   "execution_count": null,
   "id": "553d68c1",
   "metadata": {
    "hidden": true
   },
   "outputs": [],
   "source": [
    "pdb = PDBFile('Lip1.pdb')\n",
    "forcefield = ForceField('Lip1_Amoeba.xml')\n",
    "system = forcefield.createSystem(pdb.topology, nonbondedMethod=PME,\n",
    "        nonbondedCutoff=1*nanometer, constraints=HBonds)"
   ]
  },
  {
   "cell_type": "markdown",
   "id": "7054edae",
   "metadata": {
    "heading_collapsed": true
   },
   "source": [
    "# 生成包含若干LiPF6、EC和DMC的pdb"
   ]
  },
  {
   "cell_type": "code",
   "execution_count": null,
   "id": "ceaf6721",
   "metadata": {
    "code_folding": [
     1,
     30,
     64
    ],
    "hidden": true
   },
   "outputs": [],
   "source": [
    "#define function\n",
    "def Get_TER_END_lines(file_path: str, start_str: str = \"TER\", end_str: str = \"END\") -> str:\n",
    "    \"\"\"\n",
    "    从文件中获取起始字符串和终止字符串之间的行。\n",
    "\n",
    "    参数：\n",
    "    file_path (str): 包含需要查找行的文件路径。\n",
    "    start_str (str): 起始字符串。默认为\"TER\"。\n",
    "    end_str (str): 终止字符串。默认为\"END\"。\n",
    "\n",
    "    返回值：\n",
    "    str: 包含起始字符串和终止字符串之间行的字符串，如果未找到，则返回空字符串。\n",
    "    \"\"\"\n",
    "    # 从文件中读取文本\n",
    "    with open(file_path, \"r\") as f:\n",
    "        content = f.read()\n",
    "\n",
    "    # 使用正则表达式匹配起始字符串和终止字符串之间的行\n",
    "    pattern = fr\"{start_str}.*\\n(.*\\n)*?{end_str}\"\n",
    "    match = re.search(pattern, content)\n",
    "\n",
    "    if match:\n",
    "        # 返回匹配到的字符串,用切片剔除第一行和最后一行\n",
    "        lines = (match.group().splitlines()[1:-1])\n",
    "        return '\\n'.join(lines)\n",
    "    else:\n",
    "        # 打印错误信息\n",
    "        print(\"没有匹配到起始字符串和终止字符串之间的内容。\")\n",
    "        return \"\"\n",
    "\n",
    "def Add_CONECT(CONECT_txt: str, nmol: int, last_atom_index: int) -> str:\n",
    "    \"\"\"\n",
    "    将传入的CONECT_txt字符串解析为原子索引的列表，然后根据给定的nmol和last_atom_index参数来生成新的CONECT行，\n",
    "    并将它们存储在一个新的字符串列表newlines中，最后将其作为返回值返回。\n",
    "    \n",
    "    参数:\n",
    "    CONECT_txt(str): 包含CONECT行的字符串。\n",
    "    nmol(int): 指定需要生成多少个分子的CONECT行。\n",
    "    last_atom_index(int): 上一个分子最后的原子index。\n",
    "\n",
    "    返回值:\n",
    "    newlines(str): 一个包含新的CONECT行的str。\n",
    "    \"\"\"\n",
    "    # 从connect_txt字符串中解析出原子索引的列表。\n",
    "    atom_indices = re.findall(r\"\\d+\", CONECT_txt)\n",
    "\n",
    "    # 计算出原子索引列表中的最大值，即该分子的原子数\n",
    "    max_index = max([int(num) for num in atom_indices])\n",
    "\n",
    "    # 将connect_txt字符串按行拆分，并遍历每一行。\n",
    "    origin_lines = CONECT_txt.split(\"\\n\")\n",
    "    newlines = []\n",
    "    for mol in range(nmol):\n",
    "        for connect in origin_lines:\n",
    "            # 根据传入的参数，生成新的CONECT行。\n",
    "            atom_indices = re.findall(r\"\\d+\", connect)\n",
    "            new_index1 = int(atom_indices[0]) + last_atom_index + mol * max_index\n",
    "            new_index2 = int(atom_indices[1]) + last_atom_index + mol * max_index\n",
    "            newline = \"CONECT{:>5}{:>5}\".format(new_index1, new_index2)\n",
    "            newlines.append(newline)\n",
    "\n",
    "    # 将newlines作为返回值返回。\n",
    "    return \"\\n\".join(newlines)+\"\\n\"\n",
    "\n",
    "def Add_Newline(file_path:str,new_lines:str,before_which_string:str) -> None:\n",
    "    \"\"\"\n",
    "    在指定字符串之前插入新的文本行到一个文件中。\n",
    "\n",
    "    参数：\n",
    "        filename (str): 要修改的文件名\n",
    "        new_lines (list): 要插入的文本\n",
    "        before_which_string (str): 在该字符串所在行的上一行插入新行\n",
    "\n",
    "    返回：\n",
    "        无返回值，但会将修改后的内容写回文件中。\n",
    "\n",
    "    \"\"\"\n",
    "    # 打开文件并读取所有内容为列表\n",
    "    with open(file_path, \"r\") as file:\n",
    "        content = file.readlines()\n",
    "\n",
    "    # 在文件中查找“before_which_string”所在行\n",
    "    for index, line in enumerate(content):\n",
    "        if before_which_string in line:\n",
    "            break\n",
    "\n",
    "    # 在找到的“before_which_string”行前两行的位置插入新行\n",
    "    content[index:index] = new_lines\n",
    "\n",
    "    # 将修改后的内容写回文件\n",
    "    with open(file_path, \"w\") as file:\n",
    "        file.writelines(content)"
   ]
  },
  {
   "cell_type": "markdown",
   "id": "e4bb7f15",
   "metadata": {
    "hidden": true
   },
   "source": [
    "注意，packmol在windows和Linux上的表现略有不同，但是都不能正确地生成键（连接）信息，需要自己额外添加。\n",
    "盒子的大小原则上可由密度计算确定，实际上由于npt会自动调整盒子大小，因此差不多合适即可，容易通过二分法大致估计。\n",
    "如果packmol运行很快，则说明盒子过大，填充过于容易，如果运行花了若干秒，则基本上可以确定合适。"
   ]
  },
  {
   "cell_type": "code",
   "execution_count": null,
   "id": "2ba3bfec",
   "metadata": {
    "code_folding": [
     0
    ],
    "hidden": true
   },
   "outputs": [],
   "source": [
    "#写入packmol需要的.inp文件\n",
    "inp = \"\"\"#\n",
    "# mixture LiPF6, EC and DMC\n",
    "#\n",
    "\n",
    "tolerance 2.0\n",
    "filetype pdb\n",
    "add_box_sides 1\n",
    "\n",
    "output LiPF6_EC_DMC.pdb\n",
    "\n",
    "structure Lip1.pdb\n",
    "  number 49\n",
    "  inside box 0. 0. 0. 40. 40. 40. \n",
    "end structure\n",
    "\n",
    "structure PF6n1.pdb\n",
    "  number 49\n",
    "  inside box 0. 0. 0. 40. 40. 40. \n",
    "end structure\n",
    "\n",
    "structure EC.pdb\n",
    "  number 160\n",
    "  inside box 0. 0. 0. 40. 40. 40. \n",
    "end structure\n",
    "\n",
    "structure DMC.pdb\n",
    "  number 360\n",
    "  inside box 0. 0. 0. 40. 40. 40. \n",
    "end structure\"\"\"\n",
    "\n",
    "with open('mixture.inp','w') as w:\n",
    "    w.write(inp)"
   ]
  },
  {
   "cell_type": "code",
   "execution_count": null,
   "id": "4d7f4bf1",
   "metadata": {
    "hidden": true
   },
   "outputs": [],
   "source": [
    "!packmol < mixture.inp"
   ]
  },
  {
   "cell_type": "code",
   "execution_count": null,
   "id": "41c17280",
   "metadata": {
    "code_folding": [
     0
    ],
    "hidden": true
   },
   "outputs": [],
   "source": [
    "#依次增加PF6-，EC和DMC的成键信息到pdb文件中\n",
    "CONECT_txt = Get_TER_END_lines('PF6n1.pdb')\n",
    "nmol = 49\n",
    "first_atom_index = 49\n",
    "new_lines = Add_CONECT(CONECT_txt, nmol, first_atom_index)\n",
    "Add_Newline('LiPF6_EC_DMC.pdb', new_lines, 'END')\n",
    "\n",
    "CONECT_txt = Get_TER_END_lines('EC.pdb')\n",
    "nmol = 160\n",
    "first_atom_index += 49 * 7\n",
    "new_lines = Add_CONECT(CONECT_txt, nmol, first_atom_index)\n",
    "Add_Newline('LiPF6_EC_DMC.pdb', new_lines, 'END')\n",
    "\n",
    "CONECT_txt = Get_TER_END_lines('DMC.pdb')\n",
    "nmol = 480\n",
    "first_atom_index += 160 * 10\n",
    "new_lines = Add_CONECT(CONECT_txt, nmol, first_atom_index)\n",
    "Add_Newline('LiPF6_EC_DMC.pdb', new_lines, 'END')"
   ]
  },
  {
   "cell_type": "markdown",
   "id": "220a57f9",
   "metadata": {
    "heading_collapsed": true
   },
   "source": [
    "# npt"
   ]
  },
  {
   "cell_type": "markdown",
   "id": "de04e569",
   "metadata": {
    "hidden": true
   },
   "source": [
    "为了得到合适的密度，先使用npt模拟。由于AMOEBA是一个更“精细”的力场，对原子细节有描述，这里时间步长应该取小一点较为合适，2fs略长。步长过长也会导致收敛性差，很容易跑崩。"
   ]
  },
  {
   "cell_type": "code",
   "execution_count": null,
   "id": "fe52643b",
   "metadata": {
    "hidden": true
   },
   "outputs": [],
   "source": [
    "pdb = PDBFile('LiPF6_EC_DMC.pdb')\n",
    "forcefield = ForceField('Lip1_Amoeba.xml','PF6n1_Amoeba.xml','DMC_Amoeba.xml','EC_Amoeba.xml')\n",
    "system = forcefield.createSystem(pdb.topology, nonbondedMethod=PME,\n",
    "        nonbondedCutoff=1*nanometer, vdwCutoff=1.2*nanometer, polarization='extrapolated')\n",
    "\n",
    "platform = Platform.getPlatformByName('CUDA')\n",
    "properties = {'DeviceIndex': '0', 'Precision': 'single'}\n",
    "integrator = LangevinMiddleIntegrator(333*kelvin, 1/picosecond, 0.002*picoseconds)\n",
    "system.addForce(MonteCarloBarostat(1*bar, 333*kelvin))\n",
    "simulation = Simulation(pdb.topology, system, integrator, platform,properties)"
   ]
  },
  {
   "cell_type": "code",
   "execution_count": null,
   "id": "f1224c15",
   "metadata": {
    "hidden": true
   },
   "outputs": [],
   "source": [
    "simulation.context.setPositions(pdb.positions)\n",
    "simulation.minimizeEnergy()\n",
    "simulation.reporters.append(\n",
    "    DCDReporter('npt10ns.dcd', 1000, enforcePeriodicBox=True))\n",
    "simulation.reporters.append(\n",
    "    StateDataReporter('data.csv',\n",
    "                      1000,\n",
    "                      time=True,\n",
    "                      totalEnergy=True,\n",
    "                      volume=True,\n",
    "                      temperature=True))\n",
    "simulation.reporters.append(\n",
    "    StateDataReporter(stdout,\n",
    "                      100,\n",
    "                      step=True,\n",
    "                      speed=True,\n",
    "                      volume=True,\n",
    "                      totalEnergy=True,\n",
    "                      temperature=True))"
   ]
  },
  {
   "cell_type": "code",
   "execution_count": null,
   "id": "7f199308",
   "metadata": {
    "hidden": true
   },
   "outputs": [],
   "source": [
    "simulation.step(5000000)"
   ]
  },
  {
   "cell_type": "markdown",
   "id": "cbcc8760",
   "metadata": {
    "heading_collapsed": true
   },
   "source": [
    "# nvt"
   ]
  },
  {
   "cell_type": "markdown",
   "id": "a931159a",
   "metadata": {
    "hidden": true
   },
   "source": [
    "由于上一步忘了保存最后一帧的结构和速度，因此使用MDAnalysis重新拿到最后一帧的坐标以及盒子大小信息。"
   ]
  },
  {
   "cell_type": "code",
   "execution_count": null,
   "id": "8ed0f1f5",
   "metadata": {
    "hidden": true
   },
   "outputs": [],
   "source": [
    "import MDAnalysis as mda\n",
    "\n",
    "u = mda.Universe('LiPF6_EC_DMC.pdb','npt10ns.dcd')\n",
    "\n",
    "last_frame = u.trajectory[-1]\n",
    "with mda.Writer('nvt_last_frame.pdb', u.atoms.n_atoms) as writer:\n",
    "    writer.write(u.atoms)"
   ]
  },
  {
   "cell_type": "markdown",
   "id": "8530b3c7",
   "metadata": {
    "hidden": true
   },
   "source": [
    "进行nvt模型，步长设为1fs（背后的原因是一开始设置2fs老是跑一会就爆炸，后来才想起来是步长的问题，令人暖心）"
   ]
  },
  {
   "cell_type": "code",
   "execution_count": null,
   "id": "f132e366",
   "metadata": {
    "hidden": true
   },
   "outputs": [],
   "source": [
    "pdb = PDBFile('nvt_last_frame.pdb')\n",
    "forcefield = ForceField('Lip1_Amoeba.xml','PF6n1_Amoeba.xml','DMC_Amoeba.xml','EC_Amoeba.xml')\n",
    "system = forcefield.createSystem(pdb.topology, nonbondedMethod=PME,\n",
    "        nonbondedCutoff=1*nanometer, vdwCutoff=1.2*nanometer, polarization='extrapolated')\n",
    "\n",
    "platform = Platform.getPlatformByName('CUDA')\n",
    "properties = {'DeviceIndex': '0', 'Precision': 'single'}\n",
    "integrator = LangevinMiddleIntegrator(333*kelvin, 1/picosecond, 0.001*picoseconds)\n",
    "simulation = Simulation(pdb.topology, system, integrator, platform,properties)\n",
    "simulation.context.setPositions(pdb.positions)\n",
    "simulation.context.setVelocitiesToTemperature(333*kelvin)"
   ]
  },
  {
   "cell_type": "code",
   "execution_count": null,
   "id": "ed2de955",
   "metadata": {
    "hidden": true
   },
   "outputs": [],
   "source": [
    "# simulation.minimizeEnergy()\n",
    "simulation.reporters.append(\n",
    "    DCDReporter('nvt10ns.dcd', 1000, enforcePeriodicBox=True))\n",
    "simulation.reporters.append(\n",
    "    StateDataReporter('data.csv',\n",
    "                      1000,\n",
    "                      time=True,\n",
    "                      totalEnergy=True,\n",
    "                      temperature=True))\n",
    "simulation.reporters.append(\n",
    "    StateDataReporter(stdout,\n",
    "                      1000,\n",
    "                      step=True,\n",
    "                      speed=True,\n",
    "                      density=True,\n",
    "                      totalEnergy=True,\n",
    "                      temperature=True))"
   ]
  },
  {
   "cell_type": "code",
   "execution_count": null,
   "id": "902f43cc",
   "metadata": {
    "hidden": true
   },
   "outputs": [],
   "source": [
    "simulation.step(10000000)"
   ]
  },
  {
   "cell_type": "code",
   "execution_count": null,
   "id": "452e834f",
   "metadata": {
    "hidden": true
   },
   "outputs": [],
   "source": [
    "simulation.saveState('nvt10ns.xml')"
   ]
  },
  {
   "cell_type": "code",
   "execution_count": null,
   "id": "5350a2ea",
   "metadata": {
    "hidden": true
   },
   "outputs": [],
   "source": [
    "simulation.saveCheckpoint('nvt10ns.chk')"
   ]
  },
  {
   "cell_type": "code",
   "execution_count": null,
   "id": "b3e63aa4",
   "metadata": {
    "hidden": true
   },
   "outputs": [],
   "source": []
  },
  {
   "cell_type": "code",
   "execution_count": null,
   "id": "6a77985c",
   "metadata": {
    "hidden": true
   },
   "outputs": [],
   "source": []
  }
 ],
 "metadata": {
  "hide_input": false,
  "kernelspec": {
   "display_name": "Python 3 (ipykernel)",
   "language": "python",
   "name": "python3"
  },
  "language_info": {
   "codemirror_mode": {
    "name": "ipython",
    "version": 3
   },
   "file_extension": ".py",
   "mimetype": "text/x-python",
   "name": "python",
   "nbconvert_exporter": "python",
   "pygments_lexer": "ipython3",
   "version": "3.9.16"
  },
  "toc": {
   "base_numbering": 1,
   "nav_menu": {},
   "number_sections": true,
   "sideBar": true,
   "skip_h1_title": false,
   "title_cell": "Table of Contents",
   "title_sidebar": "Contents",
   "toc_cell": false,
   "toc_position": {},
   "toc_section_display": true,
   "toc_window_display": false
  },
  "varInspector": {
   "cols": {
    "lenName": 16,
    "lenType": 16,
    "lenVar": 40
   },
   "kernels_config": {
    "python": {
     "delete_cmd_postfix": "",
     "delete_cmd_prefix": "del ",
     "library": "var_list.py",
     "varRefreshCmd": "print(var_dic_list())"
    },
    "r": {
     "delete_cmd_postfix": ") ",
     "delete_cmd_prefix": "rm(",
     "library": "var_list.r",
     "varRefreshCmd": "cat(var_dic_list()) "
    }
   },
   "types_to_exclude": [
    "module",
    "function",
    "builtin_function_or_method",
    "instance",
    "_Feature"
   ],
   "window_display": false
  }
 },
 "nbformat": 4,
 "nbformat_minor": 5
}

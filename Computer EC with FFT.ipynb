{
 "cells": [
  {
   "cell_type": "code",
   "execution_count": 2,
   "id": "e562ab9c",
   "metadata": {
    "code_folding": []
   },
   "outputs": [],
   "source": [
    "import numpy as np\n",
    "import mdtraj as md"
   ]
  },
  {
   "cell_type": "markdown",
   "id": "0a44dac2",
   "metadata": {},
   "source": [
    "# 定义函数"
   ]
  },
  {
   "cell_type": "markdown",
   "id": "2a637251",
   "metadata": {},
   "source": [
    "使用FFT计算原子的MSD，[原帖](https://stackoverflow.com/questions/34222272/computing-mean-square-displacement-using-python-and-fft)。以这几个函数作为参考尝试计算不同原子之间“MSD”的函数。"
   ]
  },
  {
   "cell_type": "code",
   "execution_count": null,
   "id": "92144f3d",
   "metadata": {
    "code_folding": [
     0,
     11,
     20
    ]
   },
   "outputs": [],
   "source": [
    "def msd_straight_forward(r):\n",
    "    shifts = np.arange(len(r))\n",
    "    msds = np.zeros(shifts.size)    \n",
    "\n",
    "    for i, shift in enumerate(shifts):\n",
    "        diffs = r[:-shift if shift else None] - r[shift:]\n",
    "        sqdist = np.square(diffs).sum(axis=1)\n",
    "        msds[i] = sqdist.mean()\n",
    "\n",
    "    return msds\n",
    "\n",
    "def autocorrFFT(x):\n",
    "  N=len(x)\n",
    "  F = np.fft.fft(x, n=2*N)  #2*N because of zero-padding\n",
    "  PSD = F * F.conjugate()\n",
    "  res = np.fft.ifft(PSD)\n",
    "  res= (res[:N]).real   #now we have the autocorrelation in convention B\n",
    "  n=N*np.ones(N)-np.arange(0,N) #divide res(m) by (N-m)\n",
    "  return res/n #this is the autocorrelation in convention A\n",
    "\n",
    "def msd_fft(r):\n",
    "  N=len(r)\n",
    "  D=np.square(r).sum(axis=1) \n",
    "  D=np.append(D,0) \n",
    "  S2=sum([autocorrFFT(r[:, i]) for i in range(r.shape[1])])\n",
    "  Q=2*D.sum()\n",
    "  S1=np.zeros(N)\n",
    "  for m in range(N):\n",
    "      Q=Q-D[m-1]-D[N-m]\n",
    "      S1[m]=Q/(N-m)\n",
    "  return S1-2*S2"
   ]
  },
  {
   "cell_type": "markdown",
   "id": "fb0e544b",
   "metadata": {},
   "source": [
    "直接计算和使用FFT计算不同原子之间“MSD”的函数。直接计算效率很低，但可以用来对照FFT函数的结果。\n",
    "\n",
    "不同文献里公式略有出入，主要是求极限的位置不同，暂且使用以下公式计算电导率\n",
    "\n",
    "$\\sigma=\\lim\\limits_{t\\to\\infty}\\dfrac{e^2}{6tVk_B T}\\sum_{i,j}z_i z_j\\langle[(\\vec{r}_i(t)-(\\vec{r}_i(0)][(\\vec{r}_j(t)-(\\vec{r}_i(0)]\\rangle$\n",
    "\n",
    "最核心也是最复杂的部分是后面的系综平均，如果没有学习错的话，可以通过以下方式展开:\n",
    "\n",
    "$\\langle[(\\vec{r}_i(t)-(\\vec{r}_i(0)][(\\vec{r}_j(t)-(\\vec{r}_i(0)]\\rangle$\n",
    "\n",
    "$=\\dfrac{1}{N-m}\\sum_{k=0}^{N-m-1}[(\\vec{r}_i(k+m)-(\\vec{r}_i(k)][(\\vec{r}_j(k+m)-(\\vec{r}_i(k)]$\n",
    "\n",
    "$=\\dfrac{1}{N-m}\\sum_{k=0}^{N-m-1}[\\vec{r}_i(k+m)\\vec{r}_j(k+m)+\\vec{r}_i(k)\\vec{r}_j(k)-\\vec{r}_i(k+m)\\vec{r}_j(k)-\\vec{r}_i(k)\\vec{r}_j(k+m)]$\n",
    "\n",
    "仿照上面提到帖子的内容，在这里定义：\n",
    "\n",
    "$S_1(m) = \\dfrac{1}{N-m}\\sum_{k=0}^{N-m-1}[\\vec{r}_i(k+m)\\vec{r}_j(k+m)+\\vec{r}_i(k)\\vec{r}_j(k)$\n",
    "\n",
    "$S_2(m) = \\dfrac{1}{N-m}\\sum_{k=0}^{N-m-1}[\\vec{r}_i(k+m)\\vec{r}_j(k)+\\vec{r}_i(k)\\vec{r}_j(k+m)]$\n",
    "\n",
    "对于$S_1(m)$,可以用以下递归求解，$S_2(m)$实际上是卷积，可以用FFT求解，但需要注意每次取哪些项。如果不清楚每项如何计算，建议先固定m，改变k，用简单的例子试一下，相信能够较快地理解如何求解。\n",
    "\n",
    "$D(k)=\\vec{r}_i(k)\\vec{r}_j(k),\\mathrm{for}k=0,1;\\ldots,N-1,D(N)=0$\n",
    "\n",
    "$Q=2\\sum_{k=0}^{N-1}D(k)$\n",
    "\n",
    "for $m=0,\\ldots,N-1$\n",
    "\n",
    "$Q=Q-D(m-1)-D(N-m)$\n",
    "\n",
    "$S_1(m) = Q/(N-m)$"
   ]
  },
  {
   "cell_type": "code",
   "execution_count": 5,
   "id": "24903c6e",
   "metadata": {
    "code_folding": []
   },
   "outputs": [],
   "source": [
    "def cross_msd_straight_forward(positions_i, positions_j):\n",
    "    \"\"\"\n",
    "    计算两个位置序列之间的均方位移（Cross-MSD）。\n",
    "    \n",
    "    参数：\n",
    "    positions_i (numpy.ndarray)：表示位置序列 i 的数组，尺寸为 (N, d)，其中 N 为粒子/分子的数量，d 为维度（例如，二维或三维空间）。\n",
    "    positions_j (numpy.ndarray)：表示位置序列 j 的数组，尺寸为 (N, d)，其中 N 为粒子/分子的数量，d 为维度（例如，二维或三维空间）。\n",
    "    \n",
    "    返回：\n",
    "    C_m (numpy.ndarray)：表示 Cross-MSD 的结果向量，尺寸为 (N,)。\n",
    "    \"\"\"\n",
    "    # 获取位置序列的长度（粒子/分子的数量）\n",
    "    N = positions_i.shape[0]\n",
    "\n",
    "    # 初始化一个长度为 N 的零向量，用于存储 Cross-MSD 的结果\n",
    "    C_m = np.zeros(N)\n",
    "\n",
    "    # 遍历所有的采样窗口 m\n",
    "    for m in range(N):\n",
    "        # 初始化点积和\n",
    "        dot_products_sum = 0\n",
    "\n",
    "        # 遍历每个位置序列，计算窗口大小为 m 的点积和\n",
    "        for k in range(0, N-m):\n",
    "            # 计算位置序列 i 的位移向量\n",
    "            drift_i = positions_i[k+m] - positions_i[k]\n",
    "            # 计算位置序列 j 的位移向量\n",
    "            drift_j = positions_j[k+m] - positions_j[k]\n",
    "            # 计算两个位移向量的点积，并累加到点积和\n",
    "            dot_products_sum += np.dot(drift_i, drift_j)\n",
    "\n",
    "        # 计算并存储当前窗口大小 m 的 Cross-MSD\n",
    "        C_m[m] = dot_products_sum / (N-m)\n",
    "\n",
    "    # 返回 Cross-MSD 结果向量\n",
    "    return C_m\n",
    "\n",
    "def cross_msd_fft(positions_i, positions_j):\n",
    "    \"\"\"\n",
    "    使用快速傅里叶变换（FFT）方法计算两个位置序列之间的均方位移（Cross-MSD）。\n",
    "    \n",
    "    参数：\n",
    "    positions_i (numpy.ndarray)：表示位置序列 i 的数组，尺寸为 (N, d)，其中 N 为粒子/分子的数量，d 为维度（例如，二维或三维空间）。\n",
    "    positions_j (numpy.ndarray)：表示位置序列 j 的数组，尺寸为 (N, d)，其中 N 为粒子/分子的数量，d 为维度（例如，二维或三维空间）。\n",
    "    \n",
    "    返回：\n",
    "    C_m (numpy.ndarray)：表示 Cross-MSD 的结果向量，尺寸为 (N,)。\n",
    "    \"\"\"\n",
    "    # 获取位置序列的长度（粒子/分子的数量）和维度\n",
    "    N, dimesion = positions_i.shape\n",
    "\n",
    "    # 计算位置序列 i 和位置序列 j 之间的点积之和\n",
    "    D = np.sum(np.multiply(positions_i, positions_j), axis=1)\n",
    "    D = np.append(D, 0)\n",
    "    Q = 2 * D.sum()\n",
    "    S1 = np.zeros(N)\n",
    "    \n",
    "    # 计算 S1 部分，详见第二节的公式，这里采样窗口 m 从0开始取到n\n",
    "    for m in range(N):\n",
    "        Q = Q - D[m - 1] - D[N - m]\n",
    "        S1[m] = Q / (N - m)\n",
    "\n",
    "        \n",
    "    # 计算 S2 部分，详见第二节的公式。注意，由于每个维度独立，先对不同维度分别求相关函数，再求和。凡治众如治寡，分数是也。\n",
    "    correlate_array = sum([\n",
    "        np.correlate(positions_i[:, i], positions_j[:, i], 'full')\n",
    "        for i in range(dimesion)\n",
    "    ])\n",
    "    # 将S2的两部分求和，之后归一化\n",
    "    S2 = correlate_array[:N] + correlate_array[::-1][:N]\n",
    "    m_array = np.arange(1, N + 1)\n",
    "    S2 /= m_array\n",
    "\n",
    "    # 返回 Cross-MSD 结果向量，注意S2是反的，即 m 是从大到小的，S1中 m 从小到大\n",
    "    return S1 - S2[::-1]\n"
   ]
  },
  {
   "cell_type": "code",
   "execution_count": 6,
   "id": "5a13f432",
   "metadata": {
    "code_folding": [
     0,
     13,
     34
    ]
   },
   "outputs": [],
   "source": [
    "def center_trj_with_charge(resid_name=\"PF6\", charge=-1):\n",
    "    \"\"\"\n",
    "    计算指定残基名的每一个残基质心轨迹，并根据电荷创建电荷数组。\n",
    "\n",
    "    参数：\n",
    "    resid_name (str)：残基名称，默认为 \"PF6\"。\n",
    "    charge (int)：残基的电荷，默认为 -1。\n",
    "\n",
    "    返回：\n",
    "    center_trj (list)：残基质心轨迹列表。\n",
    "    charge_array (list)：电荷数组。\n",
    "    \"\"\"\n",
    "\n",
    "    def center_trj(resid_name=\"PF6\"):\n",
    "        \"\"\"\n",
    "        计算指定残基名的每一个残基质心轨迹\n",
    "        参数：\n",
    "        resid_name (str)：残基名称，默认为 \"PF6\"。\n",
    "\n",
    "        返回：\n",
    "        center_trj (list)：残基质心轨迹列表。\n",
    "        \"\"\"\n",
    "        \n",
    "        resid_names = [str(res.index) for res in traj.topology.residues if res.name == resid_name]\n",
    "        resid_atom_index = [traj.top.select(\"resid \" + res) for res in resid_names]\n",
    "        center_trj = [md.compute_center_of_mass(traj.atom_slice(atom_index)) for atom_index in resid_atom_index]\n",
    "        return center_trj\n",
    "\n",
    "    #根据电荷生成电荷列表\n",
    "    center_trj = center_trj(resid_name)\n",
    "    charge_array = [charge] * len(center_trj)\n",
    "\n",
    "    return center_trj, charge_array\n",
    "\n",
    "def all_msd(all_trj, all_charge):\n",
    "    \"\"\"\n",
    "    计算所有轨迹之间的均方位移（MSD）。\n",
    "\n",
    "    参数：\n",
    "    all_trj (list)：轨迹列表。\n",
    "    all_charge (list)：电荷列表。\n",
    "\n",
    "    返回：\n",
    "    total_msd (numpy.ndarray)：所有轨迹之间的总 MSD，尺寸为 (trj_length,)。\n",
    "    \"\"\"\n",
    "    \n",
    "    #初始化MSD数组\n",
    "    total_msd = np.zeros(len(all_trj[0]))\n",
    "    #生成电荷矩阵\n",
    "    charge_matrix = np.tensordot(all_charge, all_charge, axes=0)\n",
    "\n",
    "    #遍历所有轨迹（离子）对，计算MSD\n",
    "    for i in range(len(all_trj)):\n",
    "        for j in range(len(all_trj)):\n",
    "            total_msd += cross_msd_fft(all_trj[i], all_trj[j]) * charge_matrix[i, j]\n",
    "\n",
    "    return total_msd\n"
   ]
  },
  {
   "cell_type": "markdown",
   "id": "66b8f37b",
   "metadata": {},
   "source": [
    "# 计算MSD"
   ]
  },
  {
   "cell_type": "code",
   "execution_count": null,
   "id": "7ee26e62",
   "metadata": {},
   "outputs": [],
   "source": [
    "import pandas as pd\n",
    "import matplotlib.pyplot as plt"
   ]
  },
  {
   "cell_type": "code",
   "execution_count": null,
   "id": "7680191f",
   "metadata": {},
   "outputs": [],
   "source": [
    "data = pd.read_csv(\"data.csv\")"
   ]
  },
  {
   "cell_type": "code",
   "execution_count": null,
   "id": "11f23d39",
   "metadata": {},
   "outputs": [],
   "source": [
    "plt.plot(data['#\"Time (ps)\"'], data['Temperature (K)'])\n",
    "plt.xlabel('time / ps')\n",
    "plt.ylabel('Temperature / K')\n",
    "plt.xlim(0, 10000)\n",
    "plt.ylim(300, 350)"
   ]
  },
  {
   "cell_type": "markdown",
   "id": "836319ec",
   "metadata": {},
   "source": [
    "设定温度333K，有波动，但稳定在附近，这里取2000ps之后的轨迹计算电导率"
   ]
  },
  {
   "cell_type": "code",
   "execution_count": 3,
   "id": "ce9e915c",
   "metadata": {},
   "outputs": [],
   "source": [
    "traj = md.load(\"nvt10ns_unwrap_part.dcd\", top=\"LiPF6_EC_DMC.pdb\")\n",
    "#选择2000ps之后的原子坐标，每1 ps 1帧，共8000帧.注意先用工具（如vmd）将轨迹unwrap\n",
    "# traj = traj[2000:]"
   ]
  },
  {
   "cell_type": "code",
   "execution_count": 19,
   "id": "81fb32a2",
   "metadata": {},
   "outputs": [],
   "source": [
    "#计算所有MSD\n",
    "trj1,charge1 = center_trj_with_charge(\"LI\",1)\n",
    "trj2,charge2 = center_trj_with_charge(\"PF6\",-1)\n",
    "all_trj = trj1+trj2\n",
    "all_charge = charge1 + charge2\n",
    "\n",
    "MSD = all_msd(all_trj,all_charge)"
   ]
  },
  {
   "cell_type": "code",
   "execution_count": 16,
   "id": "19ad228a",
   "metadata": {},
   "outputs": [],
   "source": [
    "#计算对角项MSD\n",
    "charge_matrix = np.tensordot(all_charge, all_charge, axes=0)\n",
    "charge_matrix\n",
    "MSD_diag = np.zeros(len(all_trj[0]))\n",
    "for i in all_trj:\n",
    "    MSD_diag += cross_msd_fft(i,i)"
   ]
  },
  {
   "cell_type": "code",
   "execution_count": 20,
   "id": "a8835104",
   "metadata": {},
   "outputs": [],
   "source": [
    "# np.save('MSD',MSD)\n",
    "# np.save('MSD_diag',MSD_diag)"
   ]
  },
  {
   "cell_type": "markdown",
   "id": "08d81dbc",
   "metadata": {},
   "source": [
    "# 绘图和计算电导率"
   ]
  },
  {
   "cell_type": "code",
   "execution_count": 27,
   "id": "a17d094d",
   "metadata": {
    "code_folding": []
   },
   "outputs": [],
   "source": [
    "import os\n",
    "import matplotlib.pyplot as plt\n",
    "\n",
    "def plot_ax():\n",
    "    fig, ax = plt.subplots(constrained_layout=True, figsize=(12 / 2.54, 9 / 2.54))\n",
    "    ax.set_xlim(0, 8)\n",
    "    ax.set_ylim(0, 1600)\n",
    "    ax.tick_params(width=1)\n",
    "    ax.set_xlabel('$\\mathrm{time\\ (ns)}$')\n",
    "    ax.set_ylabel('$\\mathrm{MSD\\ (nm)}^2$')\n",
    "#     ax.set_xticks(np.arange(0,101,20))\n",
    "#     ax.set_xticklabels(ax.get_xticks())\n",
    "    ax.spines['left'].set_linewidth(1)\n",
    "    ax.spines['right'].set_linewidth(1)\n",
    "    ax.spines['bottom'].set_linewidth(1)\n",
    "    ax.spines['top'].set_linewidth(1)\n",
    "    return ax\n",
    "\n",
    "def plot_MSD(box):\n",
    "    ax =  plot_ax()\n",
    "    data = np.load(box)\n",
    "    ax.plot(np.arange(len(data))*0.001,data,lw =1)    \n",
    "    x = np.arange(len(data))*0.001 \n",
    "    return ax"
   ]
  },
  {
   "cell_type": "code",
   "execution_count": 28,
   "id": "878e7c4a",
   "metadata": {
    "collapsed": true
   },
   "outputs": [
    {
     "data": {
      "text/plain": [
       "Text(0.5, 1.0, 'MSD')"
      ]
     },
     "execution_count": 28,
     "metadata": {},
     "output_type": "execute_result"
    },
    {
     "data": {
      "image/png": "[encoded data removed]",
      "text/plain": [
       "<Figure size 472.441x354.331 with 1 Axes>"
      ]
     },
     "metadata": {},
     "output_type": "display_data"
    }
   ],
   "source": [
    "ax = plot_MSD('MSD.npy')\n",
    "ax.set_xlim(0, 8)\n",
    "ax.set_title('MSD')"
   ]
  },
  {
   "cell_type": "code",
   "execution_count": 29,
   "id": "fbdbf77e",
   "metadata": {
    "collapsed": true
   },
   "outputs": [
    {
     "data": {
      "text/plain": [
       "Text(0.5, 1.0, 'MSD_diag')"
      ]
     },
     "execution_count": 29,
     "metadata": {},
     "output_type": "execute_result"
    },
    {
     "data": {
      "image/png": "[encoded data removed]",
      "text/plain": [
       "<Figure size 472.441x354.331 with 1 Axes>"
      ]
     },
     "metadata": {},
     "output_type": "display_data"
    }
   ],
   "source": [
    "ax = plot_MSD('MSD_diag.npy')\n",
    "ax.set_xlim(0, 8)\n",
    "ax.set_title('MSD_diag')"
   ]
  },
  {
   "cell_type": "code",
   "execution_count": 33,
   "id": "7bba456a",
   "metadata": {
    "code_folding": [
     2
    ]
   },
   "outputs": [],
   "source": [
    "from scipy.stats import linregress\n",
    "\n",
    "def electrical_conductivity(MSD,timestep = 0.001):\n",
    "    linear_model = linregress(np.arange(len(MSD))*timestep,MSD)\n",
    "    slope = linear_model.slope\n",
    "    error = linear_model.rvalue\n",
    "    \n",
    "    return slope"
   ]
  },
  {
   "cell_type": "code",
   "execution_count": 38,
   "id": "0423e0e0",
   "metadata": {},
   "outputs": [
    {
     "data": {
      "text/plain": [
       "185.83583793355064"
      ]
     },
     "execution_count": 38,
     "metadata": {},
     "output_type": "execute_result"
    }
   ],
   "source": [
    "electrical_conductivity(MSD)"
   ]
  },
  {
   "cell_type": "code",
   "execution_count": null,
   "id": "a6aa286f",
   "metadata": {},
   "outputs": [],
   "source": []
  },
  {
   "cell_type": "code",
   "execution_count": null,
   "id": "9c248113",
   "metadata": {},
   "outputs": [],
   "source": []
  },
  {
   "attachments": {
    "image.png": {
     "image/png": "[encoded data removed]"
    }
   },
   "cell_type": "markdown",
   "id": "17853b4c",
   "metadata": {},
   "source": [
    "$\\sigma=\\lim\\limits_{t\\to\\infty}\\dfrac{e^2}{6tVk_B T}\\sum_{i,j}z_i z_j\\langle[(\\vec{r}_i(t)-(\\vec{r}_i(0)][(\\vec{r}_j(t)-(\\vec{r}_i(0)]\\rangle=\\dfrac{e^2}{6k_B T}\\times V\\cdot\\dfrac{\\langle[(\\vec{r}_i(t)-(\\vec{r}_i(0)][(\\vec{r}_j(t)-(\\vec{r}_i(0)]\\rangle}{t}$\n",
    "\n",
    "---\n",
    "$e=1.602176634\\times10^{-19}\\text{C}$\n",
    "\n",
    "$k_B=1.38064852(79)\\times10^{-23}\\text{J/K}$\n",
    "\n",
    "$T = 333\\text{K}$\n",
    "\n",
    "$\\text{S/m}=\\text{kg}^{-1}\\cdot\\text{m}^{-3}\\cdot \\text{s}^3\\cdot \\text{A}^2$\n",
    "\n",
    "$\\text{C}^2/\\text{(J/K}\\cdot\\text{K)} = \\text{A}^2\\cdot\\text{s}^2/(\\text{kg}\\cdot\\text{m}^2\\cdot\\text{s}^{-2})=\\text{kg}^{-1}\\cdot\\text{m}^{-3}\\cdot \\text{s}^3\\cdot \\text{A}^2\\times\\text{m}\\cdot\\text{s}=\\text{S/m}\\times\\text{m}\\cdot\\text{s}$\n",
    "\n",
    "$\\dfrac{e^2}{6k_B T} = 9.30555281102182\\times10^{-19}\\text{S/m}\\times\\text{m}\\cdot\\text{s} $  \n",
    "\n",
    "---\n",
    "$\\dfrac{1}{V}\\cdot\\dfrac{\\langle[(\\vec{r}_i(t)-(\\vec{r}_i(0)][(\\vec{r}_j(t)-(\\vec{r}_i(0)]\\rangle}{t}$\n",
    "\n",
    "$V$ 为$73.239265\\ \\text{nm}^3$，平均斜率为$185.83\\ \\text{nm}^2/\\text{ns}$\n",
    "\n",
    "则上式的值为 $2.537300176346663e\\times10^{18}/(\\text{m}\\cdot\\text{s})$\n",
    "\n",
    "最终电导率的值为 $2.361\\ \\text{S/m} = 23.61\\ \\text{mS/cm}$，这个值与[文献](https://pubs.acs.org/doi/10.1021/jp809614h)中所报道的在同一数量级。注意到，MSD曲线较明显偏离直线，因此有这种误差并不奇怪。\n",
    "\n",
    "![image.png](attachment:image.png)"
   ]
  },
  {
   "cell_type": "code",
   "execution_count": 35,
   "id": "68b13d25",
   "metadata": {
    "scrolled": true
   },
   "outputs": [
    {
     "name": "stdout",
     "output_type": "stream",
     "text": [
      "9.30555281102182e-19 73.239265 2.537300176346663e+18\n"
     ]
    }
   ],
   "source": [
    "print((1.602176634*10**(-19))**2/(6*1.3806485*10**(-23)*333),traj.unitcell_volumes[-1],185.83/73.239265*10**18)"
   ]
  },
  {
   "cell_type": "code",
   "execution_count": 36,
   "id": "fbb569a7",
   "metadata": {
    "scrolled": true
   },
   "outputs": [
    {
     "data": {
      "text/plain": [
       "2.361098078840885"
      ]
     },
     "execution_count": 36,
     "metadata": {},
     "output_type": "execute_result"
    }
   ],
   "source": [
    "9.30555281102182*2.537300176346663/10"
   ]
  },
  {
   "cell_type": "code",
   "execution_count": null,
   "id": "e4a1c1b1",
   "metadata": {},
   "outputs": [],
   "source": []
  },
  {
   "cell_type": "code",
   "execution_count": 32,
   "id": "940eca81",
   "metadata": {},
   "outputs": [],
   "source": [
    "# 写出部分轨迹，便于上传\n",
    "# traj = md.load(\"output.dcd\", top=\"LiPF6_EC_DMC.pdb\")\n",
    "# md.Trajectory(traj[:1000].xyz, traj.top).save_dcd('npt10ns_part.dcd')\n",
    "# traj = md.load(\"nvt10ns_unwrap.dcd\", top=\"LiPF6_EC_DMC.pdb\")\n",
    "# md.Trajectory(traj[:1000].xyz, traj.top).save_dcd('nvt10ns_unwrap_part.dcd')"
   ]
  }
 ],
 "metadata": {
  "hide_input": false,
  "kernelspec": {
   "display_name": "Python [conda env:md]",
   "language": "python",
   "name": "conda-env-md-py"
  },
  "language_info": {
   "codemirror_mode": {
    "name": "ipython",
    "version": 3
   },
   "file_extension": ".py",
   "mimetype": "text/x-python",
   "name": "python",
   "nbconvert_exporter": "python",
   "pygments_lexer": "ipython3",
   "version": "3.9.12"
  },
  "toc": {
   "base_numbering": 1,
   "nav_menu": {},
   "number_sections": true,
   "sideBar": true,
   "skip_h1_title": false,
   "title_cell": "Table of Contents",
   "title_sidebar": "Contents",
   "toc_cell": false,
   "toc_position": {},
   "toc_section_display": true,
   "toc_window_display": false
  },
  "varInspector": {
   "cols": {
    "lenName": 16,
    "lenType": 16,
    "lenVar": 40
   },
   "kernels_config": {
    "python": {
     "delete_cmd_postfix": "",
     "delete_cmd_prefix": "del ",
     "library": "var_list.py",
     "varRefreshCmd": "print(var_dic_list())"
    },
    "r": {
     "delete_cmd_postfix": ") ",
     "delete_cmd_prefix": "rm(",
     "library": "var_list.r",
     "varRefreshCmd": "cat(var_dic_list()) "
    }
   },
   "types_to_exclude": [
    "module",
    "function",
    "builtin_function_or_method",
    "instance",
    "_Feature"
   ],
   "window_display": false
  },
  "vscode": {
   "interpreter": {
    "hash": "2bebe4e1d44a535f822c3c0aa6ab64190633563b7b0925a36205d8fe0b6774b5"
   }
  }
 },
 "nbformat": 4,
 "nbformat_minor": 5
}
